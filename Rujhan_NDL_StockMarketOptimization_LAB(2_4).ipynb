{
  "metadata": {
    "kernelspec": {
      "language": "python",
      "display_name": "Python 3",
      "name": "python3"
    },
    "language_info": {
      "name": "python",
      "version": "3.7.12",
      "mimetype": "text/x-python",
      "codemirror_mode": {
        "name": "ipython",
        "version": 3
      },
      "pygments_lexer": "ipython3",
      "nbconvert_exporter": "python",
      "file_extension": ".py"
    },
    "colab": {
      "provenance": [],
      "include_colab_link": true
    }
  },
  "nbformat_minor": 0,
  "nbformat": 4,
  "cells": [
    {
      "cell_type": "markdown",
      "metadata": {
        "id": "view-in-github",
        "colab_type": "text"
      },
      "source": [
        "<a href=\"https://colab.research.google.com/github/rujhannajib/rujhan_ndl/blob/Stock-Market-Optimization/Rujhan_NDL_StockMarketOptimization_LAB(2_4).ipynb\" target=\"_parent\"><img src=\"https://colab.research.google.com/assets/colab-badge.svg\" alt=\"Open In Colab\"/></a>"
      ]
    },
    {
      "cell_type": "markdown",
      "source": [
        "<img src = \"https://i.imgur.com/i0iFOkM.jpg\">"
      ],
      "metadata": {
        "id": "ebACA7IPljx_"
      }
    },
    {
      "cell_type": "code",
      "source": [
        "# Prepared by Nittany Data Lab. Modified by me."
      ],
      "metadata": {
        "id": "n87CVGhBSxAJ"
      },
      "execution_count": null,
      "outputs": []
    },
    {
      "cell_type": "markdown",
      "source": [
        "## stock market libraries"
      ],
      "metadata": {
        "id": "Ksi0o1i0VvNn"
      }
    },
    {
      "cell_type": "code",
      "source": [
        "# Installing libraries\n",
        "!pip install yfinance quantstats pyportfolioopt"
      ],
      "metadata": {
        "_kg_hide-output": true,
        "execution": {
          "iopub.status.busy": "2023-03-21T19:41:37.968036Z",
          "iopub.execute_input": "2023-03-21T19:41:37.968509Z",
          "iopub.status.idle": "2023-03-21T19:41:52.310205Z",
          "shell.execute_reply.started": "2023-03-21T19:41:37.968408Z",
          "shell.execute_reply": "2023-03-21T19:41:52.309009Z"
        },
        "trusted": true,
        "id": "WC0dqVlgljyB"
      },
      "execution_count": null,
      "outputs": []
    },
    {
      "cell_type": "code",
      "source": [
        "# Importing Other Libraries\n",
        "\n",
        "# Data handling and statistical analysis\n",
        "import pandas as pd\n",
        "from pandas_datareader import data\n",
        "import numpy as np\n",
        "from scipy import stats\n",
        "\n",
        "# Data visualization\n",
        "import matplotlib.pyplot as plt\n",
        "import seaborn as sns\n",
        "import plotly.express as px\n",
        "import plotly.graph_objects as go\n",
        "from plotly.subplots import make_subplots\n",
        "\n",
        "# Optimization and allocation\n",
        "from pypfopt.efficient_frontier import EfficientFrontier\n",
        "from pypfopt import risk_models\n",
        "from pypfopt import expected_returns\n",
        "from pypfopt import black_litterman, BlackLittermanModel\n",
        "\n",
        "# Financial data\n",
        "import quantstats as qs\n",
        "# import ta\n",
        "import yfinance as yf\n",
        "\n",
        "# Enabling Plotly offline\n",
        "from plotly.offline import init_notebook_mode\n",
        "init_notebook_mode(connected=True)\n",
        "\n",
        "# hiding warnings\n",
        "import warnings\n",
        "warnings.filterwarnings(\"ignore\")\n",
        "\n",
        "# Importing libraries for portfolio optimization\n",
        "from pypfopt.efficient_frontier import EfficientFrontier\n",
        "from pypfopt import risk_models\n",
        "from pypfopt import expected_returns"
      ],
      "metadata": {
        "execution": {
          "iopub.status.busy": "2023-03-21T19:42:44.489730Z",
          "iopub.execute_input": "2023-03-21T19:42:44.490192Z",
          "iopub.status.idle": "2023-03-21T19:42:46.984372Z",
          "shell.execute_reply.started": "2023-03-21T19:42:44.490147Z",
          "shell.execute_reply": "2023-03-21T19:42:46.983207Z"
        },
        "trusted": true,
        "colab": {
          "base_uri": "https://localhost:8080/",
          "height": 17
        },
        "id": "83__SQDzljyC",
        "outputId": "3d63b1ef-bbf4-4e64-daf5-734b4ef8fc4e"
      },
      "execution_count": 4,
      "outputs": [
        {
          "output_type": "display_data",
          "data": {
            "text/html": [
              "        <script type=\"text/javascript\">\n",
              "        window.PlotlyConfig = {MathJaxConfig: 'local'};\n",
              "        if (window.MathJax && window.MathJax.Hub && window.MathJax.Hub.Config) {window.MathJax.Hub.Config({SVG: {font: \"STIX-Web\"}});}\n",
              "        if (typeof require !== 'undefined') {\n",
              "        require.undef(\"plotly\");\n",
              "        requirejs.config({\n",
              "            paths: {\n",
              "                'plotly': ['https://cdn.plot.ly/plotly-2.24.1.min']\n",
              "            }\n",
              "        });\n",
              "        require(['plotly'], function(Plotly) {\n",
              "            window._Plotly = Plotly;\n",
              "        });\n",
              "        }\n",
              "        </script>\n",
              "        "
            ]
          },
          "metadata": {}
        }
      ]
    },
    {
      "cell_type": "markdown",
      "source": [
        "## Daily Returns"
      ],
      "metadata": {
        "id": "USAM-7oAV1iv"
      }
    },
    {
      "cell_type": "code",
      "source": [
        "# Getting daily returns for US stocks in a time window\n",
        "ticker = qs.utils.download_returns(\"SONY\")\n",
        "ticker = ticker.loc[\"2018-01-01\":\"2024-02-02\"]\n",
        "ticker"
      ],
      "metadata": {
        "execution": {
          "iopub.status.busy": "2023-03-21T19:42:46.985913Z",
          "iopub.execute_input": "2023-03-21T19:42:46.986549Z",
          "iopub.status.idle": "2023-03-21T19:42:49.496773Z",
          "shell.execute_reply.started": "2023-03-21T19:42:46.986513Z",
          "shell.execute_reply": "2023-03-21T19:42:49.495579Z"
        },
        "trusted": true,
        "colab": {
          "base_uri": "https://localhost:8080/"
        },
        "id": "4DgjlOiIljyC",
        "outputId": "da4bf2bf-58ce-453f-c254-389c70c2b8d5"
      },
      "execution_count": 5,
      "outputs": [
        {
          "output_type": "stream",
          "name": "stderr",
          "text": [
            "\r[*********************100%%**********************]  1 of 1 completed\n"
          ]
        },
        {
          "output_type": "execute_result",
          "data": {
            "text/plain": [
              "Date\n",
              "2018-01-02    0.018687\n",
              "2018-01-03    0.011138\n",
              "2018-01-04    0.020518\n",
              "2018-01-05    0.030688\n",
              "2018-01-08    0.006160\n",
              "                ...   \n",
              "2024-01-29    0.019184\n",
              "2024-01-30    0.001851\n",
              "2024-01-31    0.003593\n",
              "2024-02-01    0.011662\n",
              "2024-02-02   -0.003337\n",
              "Name: Close, Length: 1532, dtype: float64"
            ]
          },
          "metadata": {},
          "execution_count": 5
        }
      ]
    },
    {
      "cell_type": "code",
      "source": [
        "# Calculating Standard Deviations\n",
        "standard_deviation = ticker.std().round(2)\n",
        "print(\"Sony STD:\",standard_deviation)"
      ],
      "metadata": {
        "execution": {
          "iopub.status.busy": "2023-03-21T19:42:59.645962Z",
          "iopub.execute_input": "2023-03-21T19:42:59.646441Z",
          "iopub.status.idle": "2023-03-21T19:42:59.657716Z",
          "shell.execute_reply.started": "2023-03-21T19:42:59.646390Z",
          "shell.execute_reply": "2023-03-21T19:42:59.656529Z"
        },
        "trusted": true,
        "id": "5TKta4_RljyE",
        "colab": {
          "base_uri": "https://localhost:8080/"
        },
        "outputId": "4ee1c777-c2a1-4810-8e29-2fbbf24f7c66"
      },
      "execution_count": 6,
      "outputs": [
        {
          "output_type": "stream",
          "name": "stdout",
          "text": [
            "Sony STD: 0.02\n"
          ]
        }
      ]
    },
    {
      "cell_type": "code",
      "source": [
        "# Plotting Daily Returns for each stock\n",
        "qs.plots.snapshot(ticker, title=\"Sony Performance\")"
      ],
      "metadata": {
        "execution": {
          "iopub.status.busy": "2023-03-21T19:42:49.506216Z",
          "iopub.execute_input": "2023-03-21T19:42:49.507347Z",
          "iopub.status.idle": "2023-03-21T19:42:51.361334Z",
          "shell.execute_reply.started": "2023-03-21T19:42:49.507286Z",
          "shell.execute_reply": "2023-03-21T19:42:51.359958Z"
        },
        "trusted": true,
        "colab": {
          "base_uri": "https://localhost:8080/",
          "height": 1000
        },
        "id": "_fYMaAMIljyC",
        "outputId": "5a6efd2b-0b07-482a-cae9-46dba69237fe"
      },
      "execution_count": 7,
      "outputs": [
        {
          "output_type": "stream",
          "name": "stderr",
          "text": [
            "WARNING:matplotlib.font_manager:findfont: Font family 'Arial' not found.\n",
            "WARNING:matplotlib.font_manager:findfont: Font family 'Arial' not found.\n",
            "WARNING:matplotlib.font_manager:findfont: Font family 'Arial' not found.\n",
            "WARNING:matplotlib.font_manager:findfont: Font family 'Arial' not found.\n",
            "WARNING:matplotlib.font_manager:findfont: Font family 'Arial' not found.\n",
            "WARNING:matplotlib.font_manager:findfont: Font family 'Arial' not found.\n",
            "WARNING:matplotlib.font_manager:findfont: Font family 'Arial' not found.\n",
            "WARNING:matplotlib.font_manager:findfont: Font family 'Arial' not found.\n",
            "WARNING:matplotlib.font_manager:findfont: Font family 'Arial' not found.\n",
            "WARNING:matplotlib.font_manager:findfont: Font family 'Arial' not found.\n",
            "WARNING:matplotlib.font_manager:findfont: Font family 'Arial' not found.\n",
            "WARNING:matplotlib.font_manager:findfont: Font family 'Arial' not found.\n",
            "WARNING:matplotlib.font_manager:findfont: Font family 'Arial' not found.\n",
            "WARNING:matplotlib.font_manager:findfont: Font family 'Arial' not found.\n",
            "WARNING:matplotlib.font_manager:findfont: Font family 'Arial' not found.\n",
            "WARNING:matplotlib.font_manager:findfont: Font family 'Arial' not found.\n"
          ]
        },
        {
          "output_type": "display_data",
          "data": {
            "text/plain": [
              "<Figure size 1000x800 with 3 Axes>"
            ],
            "image/png": "[encoded data removed]"
          },
          "metadata": {}
        }
      ]
    },
    {
      "cell_type": "code",
      "source": [
        "# Plotting histograms for daily returns\n",
        "qs.plots.histogram(ticker, resample=\"D\")"
      ],
      "metadata": {
        "execution": {
          "iopub.status.busy": "2023-03-21T19:42:53.130948Z",
          "iopub.execute_input": "2023-03-21T19:42:53.131298Z",
          "iopub.status.idle": "2023-03-21T19:42:59.407176Z",
          "shell.execute_reply.started": "2023-03-21T19:42:53.131266Z",
          "shell.execute_reply": "2023-03-21T19:42:59.405827Z"
        },
        "trusted": true,
        "id": "GOsVZ3WTljyD",
        "colab": {
          "base_uri": "https://localhost:8080/",
          "height": 666
        },
        "outputId": "a2cebaca-7f99-4056-eb43-2b54e899b7b0"
      },
      "execution_count": 8,
      "outputs": [
        {
          "output_type": "stream",
          "name": "stderr",
          "text": [
            "WARNING:matplotlib.font_manager:findfont: Font family 'Arial' not found.\n",
            "WARNING:matplotlib.font_manager:findfont: Font family 'Arial' not found.\n",
            "WARNING:matplotlib.font_manager:findfont: Font family 'Arial' not found.\n",
            "WARNING:matplotlib.font_manager:findfont: Font family 'Arial' not found.\n",
            "WARNING:matplotlib.font_manager:findfont: Font family 'Arial' not found.\n",
            "WARNING:matplotlib.font_manager:findfont: Font family 'Arial' not found.\n",
            "WARNING:matplotlib.font_manager:findfont: Font family 'Arial' not found.\n",
            "WARNING:matplotlib.font_manager:findfont: Font family 'Arial' not found.\n",
            "WARNING:matplotlib.font_manager:findfont: Font family 'Arial' not found.\n",
            "WARNING:matplotlib.font_manager:findfont: Font family 'Arial' not found.\n"
          ]
        },
        {
          "output_type": "display_data",
          "data": {
            "text/plain": [
              "<Figure size 995x500 with 1 Axes>"
            ],
            "image/png": "[encoded data removed]"
          },
          "metadata": {}
        }
      ]
    },
    {
      "cell_type": "code",
      "source": [
        "# Using quantstats to measure kurtosis\n",
        "kurtosis = qs.stats.kurtosis(ticker).round(4)\n",
        "print(f\"Sony Kurtosis: {kurtosis}\") # risky > 3"
      ],
      "metadata": {
        "execution": {
          "iopub.status.busy": "2023-03-21T19:42:59.409294Z",
          "iopub.execute_input": "2023-03-21T19:42:59.410294Z",
          "iopub.status.idle": "2023-03-21T19:42:59.530666Z",
          "shell.execute_reply.started": "2023-03-21T19:42:59.410240Z",
          "shell.execute_reply": "2023-03-21T19:42:59.529439Z"
        },
        "trusted": true,
        "id": "goW8maz7ljyD",
        "colab": {
          "base_uri": "https://localhost:8080/"
        },
        "outputId": "370cccb8-61e2-4ee0-d1da-167178b65a68"
      },
      "execution_count": 9,
      "outputs": [
        {
          "output_type": "stream",
          "name": "stdout",
          "text": [
            "Sony Kurtosis: 3.8343\n"
          ]
        }
      ]
    },
    {
      "cell_type": "code",
      "source": [
        "# Measuring skewness with quantstats\n",
        "skewness = qs.stats.skew(ticker).round(4)\n",
        "print(f\"Sony's Skewness: {skewness}\") # Slight skewness +-.5"
      ],
      "metadata": {
        "execution": {
          "iopub.status.busy": "2023-03-21T19:42:59.532322Z",
          "iopub.execute_input": "2023-03-21T19:42:59.532840Z",
          "iopub.status.idle": "2023-03-21T19:42:59.644344Z",
          "shell.execute_reply.started": "2023-03-21T19:42:59.532792Z",
          "shell.execute_reply": "2023-03-21T19:42:59.642906Z"
        },
        "trusted": true,
        "id": "FXBKkNHOljyD",
        "colab": {
          "base_uri": "https://localhost:8080/"
        },
        "outputId": "8d19ef49-9863-4b1c-c65f-0fbf09c7e0f6"
      },
      "execution_count": 10,
      "outputs": [
        {
          "output_type": "stream",
          "name": "stdout",
          "text": [
            "Sony's Skewness: 0.0434\n"
          ]
        }
      ]
    },
    {
      "cell_type": "code",
      "source": [
        "# Calculating Sharpe ratio\n",
        "# corrects return of an investment based on its degree of risk\n",
        "sr = qs.stats.sharpe(ticker).round(4)\n",
        "print(f\"Sony's Sharpe Ratio: {sr}\")"
      ],
      "metadata": {
        "execution": {
          "iopub.status.busy": "2023-03-21T19:43:08.064691Z",
          "iopub.execute_input": "2023-03-21T19:43:08.065317Z",
          "iopub.status.idle": "2023-03-21T19:43:08.185305Z",
          "shell.execute_reply.started": "2023-03-21T19:43:08.065284Z",
          "shell.execute_reply": "2023-03-21T19:43:08.184051Z"
        },
        "trusted": true,
        "id": "HFluRV0EljyF",
        "colab": {
          "base_uri": "https://localhost:8080/"
        },
        "outputId": "a9f87891-c853-4b3c-df20-812e3eccdf43"
      },
      "execution_count": 11,
      "outputs": [
        {
          "output_type": "stream",
          "name": "stdout",
          "text": [
            "Sony's Sharpe Ratio: 0.5835\n"
          ]
        }
      ]
    },
    {
      "cell_type": "code",
      "source": [
        "# Create generate report function\n",
        "def generate_report(name, data):\n",
        "  print(f\"Report for {name}\")\n",
        "  standard_deviation = data.std().round(2)\n",
        "  print(f\"{name} STD:\",standard_deviation)\n",
        "  kurtosis = qs.stats.kurtosis(data).round(4)\n",
        "  print(f\"{name} Kurtosis: {kurtosis}\") # risky > 3\n",
        "  skewness = qs.stats.skew(data).round(4)\n",
        "  print(f\"{name}'s Skewness: {skewness}\") # Slight skewness +-.5\n",
        "  sr = qs.stats.sharpe(data).round(4)\n",
        "  print(f\"{name}'s Sharpe Ratio: {sr}\")"
      ],
      "metadata": {
        "id": "s7tDqH5fLsLz"
      },
      "execution_count": 16,
      "outputs": []
    },
    {
      "cell_type": "code",
      "source": [
        "generate_report(\"SONY\",ticker)"
      ],
      "metadata": {
        "colab": {
          "base_uri": "https://localhost:8080/"
        },
        "id": "se1uA2TnMdb2",
        "outputId": "7a9b8181-a172-40e0-f61b-b203d17e7d88"
      },
      "execution_count": 17,
      "outputs": [
        {
          "output_type": "stream",
          "name": "stdout",
          "text": [
            "Report for SONY\n",
            "SONY STD: 0.02\n",
            "SONY Kurtosis: 3.8343\n",
            "SONY's Skewness: 0.0434\n",
            "SONY's Sharpe Ratio: 0.5835\n"
          ]
        }
      ]
    },
    {
      "cell_type": "markdown",
      "source": [
        "## SP 500"
      ],
      "metadata": {
        "id": "EkgPlf92r7An"
      }
    },
    {
      "cell_type": "code",
      "source": [
        "# Loading data from the SP500, the american benchmark\n",
        "sp500 = qs.utils.download_returns('^GSPC')\n",
        "sp500 = sp500.loc['2010-07-01':'2024-02-03']\n",
        "sp500"
      ],
      "metadata": {
        "colab": {
          "base_uri": "https://localhost:8080/"
        },
        "id": "yq8GTMnFr54b",
        "outputId": "ea72d085-8215-4229-efa7-74b9a72f7f10"
      },
      "execution_count": 18,
      "outputs": [
        {
          "output_type": "stream",
          "name": "stderr",
          "text": [
            "\r[*********************100%%**********************]  1 of 1 completed\n"
          ]
        },
        {
          "output_type": "execute_result",
          "data": {
            "text/plain": [
              "Date\n",
              "2010-07-01   -0.003240\n",
              "2010-07-02   -0.004662\n",
              "2010-07-06    0.005359\n",
              "2010-07-07    0.031331\n",
              "2010-07-08    0.009413\n",
              "                ...   \n",
              "2024-01-29    0.007557\n",
              "2024-01-30   -0.000601\n",
              "2024-01-31   -0.016106\n",
              "2024-02-01    0.012494\n",
              "2024-02-02    0.010684\n",
              "Name: Close, Length: 3421, dtype: float64"
            ]
          },
          "metadata": {},
          "execution_count": 18
        }
      ]
    },
    {
      "cell_type": "code",
      "source": [
        "generate_report(\"SP500\",sp500)"
      ],
      "metadata": {
        "colab": {
          "base_uri": "https://localhost:8080/"
        },
        "id": "UzuKKEZLNFPr",
        "outputId": "0bf6e442-2fcf-4a01-fd32-c680076cafa8"
      },
      "execution_count": 19,
      "outputs": [
        {
          "output_type": "stream",
          "name": "stdout",
          "text": [
            "Report for SP500\n",
            "SP500 STD: 0.01\n",
            "SP500 Kurtosis: 12.9097\n",
            "SP500's Skewness: -0.5006\n",
            "SP500's Sharpe Ratio: 0.7535\n"
          ]
        }
      ]
    },
    {
      "cell_type": "markdown",
      "source": [
        "## Financial Portfolio"
      ],
      "metadata": {
        "id": "7Nme8qStWJMB"
      }
    },
    {
      "cell_type": "code",
      "source": [
        "ticker1 = qs.utils.download_returns(\"NTDOY\")\n",
        "ticker1 = ticker1.loc[\"2010-01-01\":\"2024-03-02\"]\n",
        "# ticker1\n",
        "# ---------------------------------------------\n",
        "ticker2 = qs.utils.download_returns(\"AAL\")\n",
        "ticker2 = ticker2.loc[\"2010-01-01\":\"2024-03-02\"]\n",
        "# ticker2\n",
        "# ---------------------------------------------\n",
        "ticker3 = qs.utils.download_returns(\"SONY\")\n",
        "ticker3 = ticker3.loc[\"2010-01-01\":\"2024-03-02\"]\n",
        "# ticker\n",
        "# ---------------------------------------------\n",
        "ticker4 = qs.utils.download_returns(\"TSM\")\n",
        "ticker4 = ticker4.loc[\"2010-01-01\":\"2024-03-02\"]\n",
        "# ticker\n",
        "# ---------------------------------------------\n",
        "ticker5 = qs.utils.download_returns(\"NVDA\")\n",
        "ticker5 = ticker5.loc[\"2010-01-01\":\"2024-03-02\"]\n",
        "# ticker\n",
        "# ---------------------------------------------"
      ],
      "metadata": {
        "colab": {
          "base_uri": "https://localhost:8080/"
        },
        "id": "QVGDAPxaiW4I",
        "outputId": "759466d6-a042-42d5-a05c-ba6949b4748e"
      },
      "execution_count": 20,
      "outputs": [
        {
          "output_type": "stream",
          "name": "stderr",
          "text": [
            "[*********************100%%**********************]  1 of 1 completed\n",
            "[*********************100%%**********************]  1 of 1 completed\n",
            "[*********************100%%**********************]  1 of 1 completed\n",
            "[*********************100%%**********************]  1 of 1 completed\n",
            "[*********************100%%**********************]  1 of 1 completed\n"
          ]
        }
      ]
    },
    {
      "cell_type": "code",
      "source": [
        "# Define Financial Portfolio\n",
        "# weights = # Defining weights for each stock\n",
        "weights = [0.2, 0.2, 0.2, 0.2, 0.2]\n",
        "# portfolio = # Creating portfolio multiplying each stock for its respective weight\n",
        "portfolio = (weights[0] * ticker1) + (weights[1] * ticker2) + (weights[2] * ticker3) + (weights[3] * ticker4) + (weights[4] * ticker5)\n",
        "# portfolio # Displaying portfolio's daily returns\n",
        "portfolio # Displaying portfolio's daily returns"
      ],
      "metadata": {
        "execution": {
          "iopub.status.busy": "2023-03-21T19:43:08.187122Z",
          "iopub.execute_input": "2023-03-21T19:43:08.187882Z",
          "iopub.status.idle": "2023-03-21T19:43:08.201090Z",
          "shell.execute_reply.started": "2023-03-21T19:43:08.187831Z",
          "shell.execute_reply": "2023-03-21T19:43:08.199856Z"
        },
        "trusted": true,
        "id": "S1xWi5ZAljyF",
        "colab": {
          "base_uri": "https://localhost:8080/"
        },
        "outputId": "eaab1851-2f70-415a-c6c3-8a24f50c993e"
      },
      "execution_count": 21,
      "outputs": [
        {
          "output_type": "execute_result",
          "data": {
            "text/plain": [
              "Date\n",
              "2010-01-04    0.011799\n",
              "2010-01-05    0.027455\n",
              "2010-01-06    0.002775\n",
              "2010-01-07    0.001480\n",
              "2010-01-08    0.004036\n",
              "                ...   \n",
              "2024-01-29    0.010025\n",
              "2024-01-30   -0.002490\n",
              "2024-01-31   -0.013157\n",
              "2024-02-01    0.014267\n",
              "2024-02-02    0.017490\n",
              "Name: Close, Length: 3545, dtype: float64"
            ]
          },
          "metadata": {},
          "execution_count": 21
        }
      ]
    },
    {
      "cell_type": "code",
      "source": [
        "# Generating report on portfolio performance\n",
        "# standard_deviation = ticker.std().round(2)\n",
        "# print(\"Portfolio STD:\",standard_deviation)\n",
        "\n",
        "# sr = qs.stats.sharpe(portfolio).round(4)\n",
        "# print(f\"Portfolio's Sharpe Ratio: {sr}\")\n",
        "\n",
        "generate_report(\"Portfolio\",portfolio)"
      ],
      "metadata": {
        "execution": {
          "iopub.status.busy": "2023-03-21T19:43:08.203096Z",
          "iopub.execute_input": "2023-03-21T19:43:08.203627Z",
          "iopub.status.idle": "2023-03-21T19:43:20.116040Z",
          "shell.execute_reply.started": "2023-03-21T19:43:08.203555Z",
          "shell.execute_reply": "2023-03-21T19:43:20.114797Z"
        },
        "trusted": true,
        "id": "MUcY5ZSfljyF",
        "colab": {
          "base_uri": "https://localhost:8080/"
        },
        "outputId": "1f02fb47-5080-4e6d-e0b8-28d73645fa64"
      },
      "execution_count": 22,
      "outputs": [
        {
          "output_type": "stream",
          "name": "stdout",
          "text": [
            "Report for Portfolio\n",
            "Portfolio STD: 0.02\n",
            "Portfolio Kurtosis: 4.246\n",
            "Portfolio's Skewness: 0.1843\n",
            "Portfolio's Sharpe Ratio: 0.8756\n"
          ]
        }
      ]
    },
    {
      "cell_type": "markdown",
      "source": [
        "## Optimizing"
      ],
      "metadata": {
        "id": "JVnKbGx-Vhh0"
      }
    },
    {
      "cell_type": "code",
      "source": [
        "# Getting dataframes info for Stocks using yfinance\n",
        "stocks_df = yf.download([\"TSM\",\"AAL\",\"NTDOY\",\"SONY\",\"NVDA\"], start=\"2010-01-01\", end=\"2024-03-02\")[\"Adj Close\"]\n",
        "stocks_df"
      ],
      "metadata": {
        "execution": {
          "iopub.status.busy": "2023-03-21T19:43:20.117917Z",
          "iopub.execute_input": "2023-03-21T19:43:20.118356Z",
          "iopub.status.idle": "2023-03-21T19:43:21.376898Z",
          "shell.execute_reply.started": "2023-03-21T19:43:20.118313Z",
          "shell.execute_reply": "2023-03-21T19:43:21.375658Z"
        },
        "trusted": true,
        "id": "knAJ1ueJljyG",
        "colab": {
          "base_uri": "https://localhost:8080/",
          "height": 473
        },
        "outputId": "d9c9ab5c-f27c-4930-fd33-ec67a493e4d2"
      },
      "execution_count": 23,
      "outputs": [
        {
          "output_type": "stream",
          "name": "stderr",
          "text": [
            "[*********************100%%**********************]  5 of 5 completed\n"
          ]
        },
        {
          "output_type": "execute_result",
          "data": {
            "text/plain": [
              "Ticker            AAL   NTDOY        NVDA       SONY         TSM\n",
              "Date                                                            \n",
              "2010-01-04   4.496878   6.180    4.240427  30.020000    7.458040\n",
              "2010-01-05   5.005956   6.294    4.302350  29.879999    7.425840\n",
              "2010-01-06   4.798553   6.630    4.329869  29.850000    7.400077\n",
              "2010-01-07   4.939966   6.844    4.245016  29.799999    7.155338\n",
              "2010-01-08   4.845691   6.964    4.254189  30.410000    7.148901\n",
              "...               ...     ...         ...        ...         ...\n",
              "2024-01-29  14.940000  13.700  624.650024  97.220001  116.980003\n",
              "2024-01-30  14.530000  13.920  627.739990  97.400002  116.059998\n",
              "2024-01-31  14.230000  13.890  615.270020  97.750000  112.959999\n",
              "2024-02-01  14.340000  14.220  630.270020  98.889999  113.389999\n",
              "2024-02-02  14.560000  14.290  661.599976  98.559998  115.750000\n",
              "\n",
              "[3545 rows x 5 columns]"
            ],
            "text/html": [
              "\n",
              "  <div id=\"df-13f2b0fd-4cd6-455b-b1f8-00f02f4877e5\" class=\"colab-df-container\">\n",
              "    <div>\n",
              "<style scoped>\n",
              "    .dataframe tbody tr th:only-of-type {\n",
              "        vertical-align: middle;\n",
              "    }\n",
              "\n",
              "    .dataframe tbody tr th {\n",
              "        vertical-align: top;\n",
              "    }\n",
              "\n",
              "    .dataframe thead th {\n",
              "        text-align: right;\n",
              "    }\n",
              "</style>\n",
              "<table border=\"1\" class=\"dataframe\">\n",
              "  <thead>\n",
              "    <tr style=\"text-align: right;\">\n",
              "      <th>Ticker</th>\n",
              "      <th>AAL</th>\n",
              "      <th>NTDOY</th>\n",
              "      <th>NVDA</th>\n",
              "      <th>SONY</th>\n",
              "      <th>TSM</th>\n",
              "    </tr>\n",
              "    <tr>\n",
              "      <th>Date</th>\n",
              "      <th></th>\n",
              "      <th></th>\n",
              "      <th></th>\n",
              "      <th></th>\n",
              "      <th></th>\n",
              "    </tr>\n",
              "  </thead>\n",
              "  <tbody>\n",
              "    <tr>\n",
              "      <th>2010-01-04</th>\n",
              "      <td>4.496878</td>\n",
              "      <td>6.180</td>\n",
              "      <td>4.240427</td>\n",
              "      <td>30.020000</td>\n",
              "      <td>7.458040</td>\n",
              "    </tr>\n",
              "    <tr>\n",
              "      <th>2010-01-05</th>\n",
              "      <td>5.005956</td>\n",
              "      <td>6.294</td>\n",
              "      <td>4.302350</td>\n",
              "      <td>29.879999</td>\n",
              "      <td>7.425840</td>\n",
              "    </tr>\n",
              "    <tr>\n",
              "      <th>2010-01-06</th>\n",
              "      <td>4.798553</td>\n",
              "      <td>6.630</td>\n",
              "      <td>4.329869</td>\n",
              "      <td>29.850000</td>\n",
              "      <td>7.400077</td>\n",
              "    </tr>\n",
              "    <tr>\n",
              "      <th>2010-01-07</th>\n",
              "      <td>4.939966</td>\n",
              "      <td>6.844</td>\n",
              "      <td>4.245016</td>\n",
              "      <td>29.799999</td>\n",
              "      <td>7.155338</td>\n",
              "    </tr>\n",
              "    <tr>\n",
              "      <th>2010-01-08</th>\n",
              "      <td>4.845691</td>\n",
              "      <td>6.964</td>\n",
              "      <td>4.254189</td>\n",
              "      <td>30.410000</td>\n",
              "      <td>7.148901</td>\n",
              "    </tr>\n",
              "    <tr>\n",
              "      <th>...</th>\n",
              "      <td>...</td>\n",
              "      <td>...</td>\n",
              "      <td>...</td>\n",
              "      <td>...</td>\n",
              "      <td>...</td>\n",
              "    </tr>\n",
              "    <tr>\n",
              "      <th>2024-01-29</th>\n",
              "      <td>14.940000</td>\n",
              "      <td>13.700</td>\n",
              "      <td>624.650024</td>\n",
              "      <td>97.220001</td>\n",
              "      <td>116.980003</td>\n",
              "    </tr>\n",
              "    <tr>\n",
              "      <th>2024-01-30</th>\n",
              "      <td>14.530000</td>\n",
              "      <td>13.920</td>\n",
              "      <td>627.739990</td>\n",
              "      <td>97.400002</td>\n",
              "      <td>116.059998</td>\n",
              "    </tr>\n",
              "    <tr>\n",
              "      <th>2024-01-31</th>\n",
              "      <td>14.230000</td>\n",
              "      <td>13.890</td>\n",
              "      <td>615.270020</td>\n",
              "      <td>97.750000</td>\n",
              "      <td>112.959999</td>\n",
              "    </tr>\n",
              "    <tr>\n",
              "      <th>2024-02-01</th>\n",
              "      <td>14.340000</td>\n",
              "      <td>14.220</td>\n",
              "      <td>630.270020</td>\n",
              "      <td>98.889999</td>\n",
              "      <td>113.389999</td>\n",
              "    </tr>\n",
              "    <tr>\n",
              "      <th>2024-02-02</th>\n",
              "      <td>14.560000</td>\n",
              "      <td>14.290</td>\n",
              "      <td>661.599976</td>\n",
              "      <td>98.559998</td>\n",
              "      <td>115.750000</td>\n",
              "    </tr>\n",
              "  </tbody>\n",
              "</table>\n",
              "<p>3545 rows × 5 columns</p>\n",
              "</div>\n",
              "    <div class=\"colab-df-buttons\">\n",
              "\n",
              "  <div class=\"colab-df-container\">\n",
              "    <button class=\"colab-df-convert\" onclick=\"convertToInteractive('df-13f2b0fd-4cd6-455b-b1f8-00f02f4877e5')\"\n",
              "            title=\"Convert this dataframe to an interactive table.\"\n",
              "            style=\"display:none;\">\n",
              "\n",
              "  <svg xmlns=\"http://www.w3.org/2000/svg\" height=\"24px\" viewBox=\"0 -960 960 960\">\n",
              "    <path d=\"M120-120v-720h720v720H120Zm60-500h600v-160H180v160Zm220 220h160v-160H400v160Zm0 220h160v-160H400v160ZM180-400h160v-160H180v160Zm440 0h160v-160H620v160ZM180-180h160v-160H180v160Zm440 0h160v-160H620v160Z\"/>\n",
              "  </svg>\n",
              "    </button>\n",
              "\n",
              "  <style>\n",
              "    .colab-df-container {\n",
              "      display:flex;\n",
              "      gap: 12px;\n",
              "    }\n",
              "\n",
              "    .colab-df-convert {\n",
              "      background-color: #E8F0FE;\n",
              "      border: none;\n",
              "      border-radius: 50%;\n",
              "      cursor: pointer;\n",
              "      display: none;\n",
              "      fill: #1967D2;\n",
              "      height: 32px;\n",
              "      padding: 0 0 0 0;\n",
              "      width: 32px;\n",
              "    }\n",
              "\n",
              "    .colab-df-convert:hover {\n",
              "      background-color: #E2EBFA;\n",
              "      box-shadow: 0px 1px 2px rgba(60, 64, 67, 0.3), 0px 1px 3px 1px rgba(60, 64, 67, 0.15);\n",
              "      fill: #174EA6;\n",
              "    }\n",
              "\n",
              "    .colab-df-buttons div {\n",
              "      margin-bottom: 4px;\n",
              "    }\n",
              "\n",
              "    [theme=dark] .colab-df-convert {\n",
              "      background-color: #3B4455;\n",
              "      fill: #D2E3FC;\n",
              "    }\n",
              "\n",
              "    [theme=dark] .colab-df-convert:hover {\n",
              "      background-color: #434B5C;\n",
              "      box-shadow: 0px 1px 3px 1px rgba(0, 0, 0, 0.15);\n",
              "      filter: drop-shadow(0px 1px 2px rgba(0, 0, 0, 0.3));\n",
              "      fill: #FFFFFF;\n",
              "    }\n",
              "  </style>\n",
              "\n",
              "    <script>\n",
              "      const buttonEl =\n",
              "        document.querySelector('#df-13f2b0fd-4cd6-455b-b1f8-00f02f4877e5 button.colab-df-convert');\n",
              "      buttonEl.style.display =\n",
              "        google.colab.kernel.accessAllowed ? 'block' : 'none';\n",
              "\n",
              "      async function convertToInteractive(key) {\n",
              "        const element = document.querySelector('#df-13f2b0fd-4cd6-455b-b1f8-00f02f4877e5');\n",
              "        const dataTable =\n",
              "          await google.colab.kernel.invokeFunction('convertToInteractive',\n",
              "                                                    [key], {});\n",
              "        if (!dataTable) return;\n",
              "\n",
              "        const docLinkHtml = 'Like what you see? Visit the ' +\n",
              "          '<a target=\"_blank\" href=https://colab.research.google.com/notebooks/data_table.ipynb>data table notebook</a>'\n",
              "          + ' to learn more about interactive tables.';\n",
              "        element.innerHTML = '';\n",
              "        dataTable['output_type'] = 'display_data';\n",
              "        await google.colab.output.renderOutput(dataTable, element);\n",
              "        const docLink = document.createElement('div');\n",
              "        docLink.innerHTML = docLinkHtml;\n",
              "        element.appendChild(docLink);\n",
              "      }\n",
              "    </script>\n",
              "  </div>\n",
              "\n",
              "\n",
              "<div id=\"df-013e45f3-6e64-4b8c-9220-5f7376b1c542\">\n",
              "  <button class=\"colab-df-quickchart\" onclick=\"quickchart('df-013e45f3-6e64-4b8c-9220-5f7376b1c542')\"\n",
              "            title=\"Suggest charts\"\n",
              "            style=\"display:none;\">\n",
              "\n",
              "<svg xmlns=\"http://www.w3.org/2000/svg\" height=\"24px\"viewBox=\"0 0 24 24\"\n",
              "     width=\"24px\">\n",
              "    <g>\n",
              "        <path d=\"M19 3H5c-1.1 0-2 .9-2 2v14c0 1.1.9 2 2 2h14c1.1 0 2-.9 2-2V5c0-1.1-.9-2-2-2zM9 17H7v-7h2v7zm4 0h-2V7h2v10zm4 0h-2v-4h2v4z\"/>\n",
              "    </g>\n",
              "</svg>\n",
              "  </button>\n",
              "\n",
              "<style>\n",
              "  .colab-df-quickchart {\n",
              "      --bg-color: #E8F0FE;\n",
              "      --fill-color: #1967D2;\n",
              "      --hover-bg-color: #E2EBFA;\n",
              "      --hover-fill-color: #174EA6;\n",
              "      --disabled-fill-color: #AAA;\n",
              "      --disabled-bg-color: #DDD;\n",
              "  }\n",
              "\n",
              "  [theme=dark] .colab-df-quickchart {\n",
              "      --bg-color: #3B4455;\n",
              "      --fill-color: #D2E3FC;\n",
              "      --hover-bg-color: #434B5C;\n",
              "      --hover-fill-color: #FFFFFF;\n",
              "      --disabled-bg-color: #3B4455;\n",
              "      --disabled-fill-color: #666;\n",
              "  }\n",
              "\n",
              "  .colab-df-quickchart {\n",
              "    background-color: var(--bg-color);\n",
              "    border: none;\n",
              "    border-radius: 50%;\n",
              "    cursor: pointer;\n",
              "    display: none;\n",
              "    fill: var(--fill-color);\n",
              "    height: 32px;\n",
              "    padding: 0;\n",
              "    width: 32px;\n",
              "  }\n",
              "\n",
              "  .colab-df-quickchart:hover {\n",
              "    background-color: var(--hover-bg-color);\n",
              "    box-shadow: 0 1px 2px rgba(60, 64, 67, 0.3), 0 1px 3px 1px rgba(60, 64, 67, 0.15);\n",
              "    fill: var(--button-hover-fill-color);\n",
              "  }\n",
              "\n",
              "  .colab-df-quickchart-complete:disabled,\n",
              "  .colab-df-quickchart-complete:disabled:hover {\n",
              "    background-color: var(--disabled-bg-color);\n",
              "    fill: var(--disabled-fill-color);\n",
              "    box-shadow: none;\n",
              "  }\n",
              "\n",
              "  .colab-df-spinner {\n",
              "    border: 2px solid var(--fill-color);\n",
              "    border-color: transparent;\n",
              "    border-bottom-color: var(--fill-color);\n",
              "    animation:\n",
              "      spin 1s steps(1) infinite;\n",
              "  }\n",
              "\n",
              "  @keyframes spin {\n",
              "    0% {\n",
              "      border-color: transparent;\n",
              "      border-bottom-color: var(--fill-color);\n",
              "      border-left-color: var(--fill-color);\n",
              "    }\n",
              "    20% {\n",
              "      border-color: transparent;\n",
              "      border-left-color: var(--fill-color);\n",
              "      border-top-color: var(--fill-color);\n",
              "    }\n",
              "    30% {\n",
              "      border-color: transparent;\n",
              "      border-left-color: var(--fill-color);\n",
              "      border-top-color: var(--fill-color);\n",
              "      border-right-color: var(--fill-color);\n",
              "    }\n",
              "    40% {\n",
              "      border-color: transparent;\n",
              "      border-right-color: var(--fill-color);\n",
              "      border-top-color: var(--fill-color);\n",
              "    }\n",
              "    60% {\n",
              "      border-color: transparent;\n",
              "      border-right-color: var(--fill-color);\n",
              "    }\n",
              "    80% {\n",
              "      border-color: transparent;\n",
              "      border-right-color: var(--fill-color);\n",
              "      border-bottom-color: var(--fill-color);\n",
              "    }\n",
              "    90% {\n",
              "      border-color: transparent;\n",
              "      border-bottom-color: var(--fill-color);\n",
              "    }\n",
              "  }\n",
              "</style>\n",
              "\n",
              "  <script>\n",
              "    async function quickchart(key) {\n",
              "      const quickchartButtonEl =\n",
              "        document.querySelector('#' + key + ' button');\n",
              "      quickchartButtonEl.disabled = true;  // To prevent multiple clicks.\n",
              "      quickchartButtonEl.classList.add('colab-df-spinner');\n",
              "      try {\n",
              "        const charts = await google.colab.kernel.invokeFunction(\n",
              "            'suggestCharts', [key], {});\n",
              "      } catch (error) {\n",
              "        console.error('Error during call to suggestCharts:', error);\n",
              "      }\n",
              "      quickchartButtonEl.classList.remove('colab-df-spinner');\n",
              "      quickchartButtonEl.classList.add('colab-df-quickchart-complete');\n",
              "    }\n",
              "    (() => {\n",
              "      let quickchartButtonEl =\n",
              "        document.querySelector('#df-013e45f3-6e64-4b8c-9220-5f7376b1c542 button');\n",
              "      quickchartButtonEl.style.display =\n",
              "        google.colab.kernel.accessAllowed ? 'block' : 'none';\n",
              "    })();\n",
              "  </script>\n",
              "</div>\n",
              "\n",
              "  <div id=\"id_f5be1b5e-0f49-41b6-9105-b01b50344c57\">\n",
              "    <style>\n",
              "      .colab-df-generate {\n",
              "        background-color: #E8F0FE;\n",
              "        border: none;\n",
              "        border-radius: 50%;\n",
              "        cursor: pointer;\n",
              "        display: none;\n",
              "        fill: #1967D2;\n",
              "        height: 32px;\n",
              "        padding: 0 0 0 0;\n",
              "        width: 32px;\n",
              "      }\n",
              "\n",
              "      .colab-df-generate:hover {\n",
              "        background-color: #E2EBFA;\n",
              "        box-shadow: 0px 1px 2px rgba(60, 64, 67, 0.3), 0px 1px 3px 1px rgba(60, 64, 67, 0.15);\n",
              "        fill: #174EA6;\n",
              "      }\n",
              "\n",
              "      [theme=dark] .colab-df-generate {\n",
              "        background-color: #3B4455;\n",
              "        fill: #D2E3FC;\n",
              "      }\n",
              "\n",
              "      [theme=dark] .colab-df-generate:hover {\n",
              "        background-color: #434B5C;\n",
              "        box-shadow: 0px 1px 3px 1px rgba(0, 0, 0, 0.15);\n",
              "        filter: drop-shadow(0px 1px 2px rgba(0, 0, 0, 0.3));\n",
              "        fill: #FFFFFF;\n",
              "      }\n",
              "    </style>\n",
              "    <button class=\"colab-df-generate\" onclick=\"generateWithVariable('stocks_df')\"\n",
              "            title=\"Generate code using this dataframe.\"\n",
              "            style=\"display:none;\">\n",
              "\n",
              "  <svg xmlns=\"http://www.w3.org/2000/svg\" height=\"24px\"viewBox=\"0 0 24 24\"\n",
              "       width=\"24px\">\n",
              "    <path d=\"M7,19H8.4L18.45,9,17,7.55,7,17.6ZM5,21V16.75L18.45,3.32a2,2,0,0,1,2.83,0l1.4,1.43a1.91,1.91,0,0,1,.58,1.4,1.91,1.91,0,0,1-.58,1.4L9.25,21ZM18.45,9,17,7.55Zm-12,3A5.31,5.31,0,0,0,4.9,8.1,5.31,5.31,0,0,0,1,6.5,5.31,5.31,0,0,0,4.9,4.9,5.31,5.31,0,0,0,6.5,1,5.31,5.31,0,0,0,8.1,4.9,5.31,5.31,0,0,0,12,6.5,5.46,5.46,0,0,0,6.5,12Z\"/>\n",
              "  </svg>\n",
              "    </button>\n",
              "    <script>\n",
              "      (() => {\n",
              "      const buttonEl =\n",
              "        document.querySelector('#id_f5be1b5e-0f49-41b6-9105-b01b50344c57 button.colab-df-generate');\n",
              "      buttonEl.style.display =\n",
              "        google.colab.kernel.accessAllowed ? 'block' : 'none';\n",
              "\n",
              "      buttonEl.onclick = () => {\n",
              "        google.colab.notebook.generateWithVariable('stocks_df');\n",
              "      }\n",
              "      })();\n",
              "    </script>\n",
              "  </div>\n",
              "\n",
              "    </div>\n",
              "  </div>\n"
            ]
          },
          "metadata": {},
          "execution_count": 23
        }
      ]
    },
    {
      "cell_type": "markdown",
      "source": [
        "<h2 id = 'markowitz' style=\"font-family: 'Cambria', Georgia, serif; font-weight: bold; margin-bottom: 20px; text-align: left; letter-spacing: 1px;\">Markowitz Mean-Variance Optimization Model</h2>"
      ],
      "metadata": {
        "id": "DuLlNRAvljyG"
      }
    },
    {
      "cell_type": "code",
      "source": [
        "# Calculating the annualized expected returns and the annualized sample covariance matrix\n",
        "mu = expected_returns.mean_historical_return(stocks_df)\n",
        "S = risk_models.sample_cov(stocks_df)\n"
      ],
      "metadata": {
        "execution": {
          "iopub.status.busy": "2023-03-21T19:43:21.420112Z",
          "iopub.execute_input": "2023-03-21T19:43:21.420492Z",
          "iopub.status.idle": "2023-03-21T19:43:21.437877Z",
          "shell.execute_reply.started": "2023-03-21T19:43:21.420458Z",
          "shell.execute_reply": "2023-03-21T19:43:21.436640Z"
        },
        "trusted": true,
        "id": "k-wd63S9ljyG"
      },
      "execution_count": 25,
      "outputs": []
    },
    {
      "cell_type": "code",
      "source": [
        "# Visualizing the annualized expected returns\n",
        "mu"
      ],
      "metadata": {
        "execution": {
          "iopub.status.busy": "2023-03-21T19:43:21.440892Z",
          "iopub.execute_input": "2023-03-21T19:43:21.441356Z",
          "iopub.status.idle": "2023-03-21T19:43:21.451015Z",
          "shell.execute_reply.started": "2023-03-21T19:43:21.441310Z",
          "shell.execute_reply": "2023-03-21T19:43:21.449598Z"
        },
        "trusted": true,
        "id": "rE_knqyaljyG",
        "colab": {
          "base_uri": "https://localhost:8080/"
        },
        "outputId": "8a521941-0435-48a0-c35a-59a4ca59be6c"
      },
      "execution_count": 26,
      "outputs": [
        {
          "output_type": "execute_result",
          "data": {
            "text/plain": [
              "Ticker\n",
              "AAL      0.087131\n",
              "NTDOY    0.061416\n",
              "NVDA     0.432019\n",
              "SONY     0.088207\n",
              "TSM      0.215290\n",
              "dtype: float64"
            ]
          },
          "metadata": {},
          "execution_count": 26
        }
      ]
    },
    {
      "cell_type": "code",
      "source": [
        "# Visualizing the covariance matrix\n",
        "S"
      ],
      "metadata": {
        "execution": {
          "iopub.status.busy": "2023-03-21T19:43:21.452766Z",
          "iopub.execute_input": "2023-03-21T19:43:21.453402Z",
          "iopub.status.idle": "2023-03-21T19:43:21.465558Z",
          "shell.execute_reply.started": "2023-03-21T19:43:21.453364Z",
          "shell.execute_reply": "2023-03-21T19:43:21.464677Z"
        },
        "trusted": true,
        "id": "2BgIGMsNljyG",
        "colab": {
          "base_uri": "https://localhost:8080/",
          "height": 238
        },
        "outputId": "b0306368-78c3-48d1-a260-6ccb8a146b58"
      },
      "execution_count": 27,
      "outputs": [
        {
          "output_type": "execute_result",
          "data": {
            "text/plain": [
              "Ticker       AAL     NTDOY      NVDA      SONY       TSM\n",
              "Ticker                                                  \n",
              "AAL     0.271027  0.025967  0.067100  0.040868  0.046230\n",
              "NTDOY   0.025967  0.142447  0.037970  0.037901  0.027141\n",
              "NVDA    0.067100  0.037970  0.201103  0.052807  0.072974\n",
              "SONY    0.040868  0.037901  0.052807  0.101470  0.036924\n",
              "TSM     0.046230  0.027141  0.072974  0.036924  0.085617"
            ],
            "text/html": [
              "\n",
              "  <div id=\"df-34c18631-fcb6-4164-b74d-6e15eeaa3a29\" class=\"colab-df-container\">\n",
              "    <div>\n",
              "<style scoped>\n",
              "    .dataframe tbody tr th:only-of-type {\n",
              "        vertical-align: middle;\n",
              "    }\n",
              "\n",
              "    .dataframe tbody tr th {\n",
              "        vertical-align: top;\n",
              "    }\n",
              "\n",
              "    .dataframe thead th {\n",
              "        text-align: right;\n",
              "    }\n",
              "</style>\n",
              "<table border=\"1\" class=\"dataframe\">\n",
              "  <thead>\n",
              "    <tr style=\"text-align: right;\">\n",
              "      <th>Ticker</th>\n",
              "      <th>AAL</th>\n",
              "      <th>NTDOY</th>\n",
              "      <th>NVDA</th>\n",
              "      <th>SONY</th>\n",
              "      <th>TSM</th>\n",
              "    </tr>\n",
              "    <tr>\n",
              "      <th>Ticker</th>\n",
              "      <th></th>\n",
              "      <th></th>\n",
              "      <th></th>\n",
              "      <th></th>\n",
              "      <th></th>\n",
              "    </tr>\n",
              "  </thead>\n",
              "  <tbody>\n",
              "    <tr>\n",
              "      <th>AAL</th>\n",
              "      <td>0.271027</td>\n",
              "      <td>0.025967</td>\n",
              "      <td>0.067100</td>\n",
              "      <td>0.040868</td>\n",
              "      <td>0.046230</td>\n",
              "    </tr>\n",
              "    <tr>\n",
              "      <th>NTDOY</th>\n",
              "      <td>0.025967</td>\n",
              "      <td>0.142447</td>\n",
              "      <td>0.037970</td>\n",
              "      <td>0.037901</td>\n",
              "      <td>0.027141</td>\n",
              "    </tr>\n",
              "    <tr>\n",
              "      <th>NVDA</th>\n",
              "      <td>0.067100</td>\n",
              "      <td>0.037970</td>\n",
              "      <td>0.201103</td>\n",
              "      <td>0.052807</td>\n",
              "      <td>0.072974</td>\n",
              "    </tr>\n",
              "    <tr>\n",
              "      <th>SONY</th>\n",
              "      <td>0.040868</td>\n",
              "      <td>0.037901</td>\n",
              "      <td>0.052807</td>\n",
              "      <td>0.101470</td>\n",
              "      <td>0.036924</td>\n",
              "    </tr>\n",
              "    <tr>\n",
              "      <th>TSM</th>\n",
              "      <td>0.046230</td>\n",
              "      <td>0.027141</td>\n",
              "      <td>0.072974</td>\n",
              "      <td>0.036924</td>\n",
              "      <td>0.085617</td>\n",
              "    </tr>\n",
              "  </tbody>\n",
              "</table>\n",
              "</div>\n",
              "    <div class=\"colab-df-buttons\">\n",
              "\n",
              "  <div class=\"colab-df-container\">\n",
              "    <button class=\"colab-df-convert\" onclick=\"convertToInteractive('df-34c18631-fcb6-4164-b74d-6e15eeaa3a29')\"\n",
              "            title=\"Convert this dataframe to an interactive table.\"\n",
              "            style=\"display:none;\">\n",
              "\n",
              "  <svg xmlns=\"http://www.w3.org/2000/svg\" height=\"24px\" viewBox=\"0 -960 960 960\">\n",
              "    <path d=\"M120-120v-720h720v720H120Zm60-500h600v-160H180v160Zm220 220h160v-160H400v160Zm0 220h160v-160H400v160ZM180-400h160v-160H180v160Zm440 0h160v-160H620v160ZM180-180h160v-160H180v160Zm440 0h160v-160H620v160Z\"/>\n",
              "  </svg>\n",
              "    </button>\n",
              "\n",
              "  <style>\n",
              "    .colab-df-container {\n",
              "      display:flex;\n",
              "      gap: 12px;\n",
              "    }\n",
              "\n",
              "    .colab-df-convert {\n",
              "      background-color: #E8F0FE;\n",
              "      border: none;\n",
              "      border-radius: 50%;\n",
              "      cursor: pointer;\n",
              "      display: none;\n",
              "      fill: #1967D2;\n",
              "      height: 32px;\n",
              "      padding: 0 0 0 0;\n",
              "      width: 32px;\n",
              "    }\n",
              "\n",
              "    .colab-df-convert:hover {\n",
              "      background-color: #E2EBFA;\n",
              "      box-shadow: 0px 1px 2px rgba(60, 64, 67, 0.3), 0px 1px 3px 1px rgba(60, 64, 67, 0.15);\n",
              "      fill: #174EA6;\n",
              "    }\n",
              "\n",
              "    .colab-df-buttons div {\n",
              "      margin-bottom: 4px;\n",
              "    }\n",
              "\n",
              "    [theme=dark] .colab-df-convert {\n",
              "      background-color: #3B4455;\n",
              "      fill: #D2E3FC;\n",
              "    }\n",
              "\n",
              "    [theme=dark] .colab-df-convert:hover {\n",
              "      background-color: #434B5C;\n",
              "      box-shadow: 0px 1px 3px 1px rgba(0, 0, 0, 0.15);\n",
              "      filter: drop-shadow(0px 1px 2px rgba(0, 0, 0, 0.3));\n",
              "      fill: #FFFFFF;\n",
              "    }\n",
              "  </style>\n",
              "\n",
              "    <script>\n",
              "      const buttonEl =\n",
              "        document.querySelector('#df-34c18631-fcb6-4164-b74d-6e15eeaa3a29 button.colab-df-convert');\n",
              "      buttonEl.style.display =\n",
              "        google.colab.kernel.accessAllowed ? 'block' : 'none';\n",
              "\n",
              "      async function convertToInteractive(key) {\n",
              "        const element = document.querySelector('#df-34c18631-fcb6-4164-b74d-6e15eeaa3a29');\n",
              "        const dataTable =\n",
              "          await google.colab.kernel.invokeFunction('convertToInteractive',\n",
              "                                                    [key], {});\n",
              "        if (!dataTable) return;\n",
              "\n",
              "        const docLinkHtml = 'Like what you see? Visit the ' +\n",
              "          '<a target=\"_blank\" href=https://colab.research.google.com/notebooks/data_table.ipynb>data table notebook</a>'\n",
              "          + ' to learn more about interactive tables.';\n",
              "        element.innerHTML = '';\n",
              "        dataTable['output_type'] = 'display_data';\n",
              "        await google.colab.output.renderOutput(dataTable, element);\n",
              "        const docLink = document.createElement('div');\n",
              "        docLink.innerHTML = docLinkHtml;\n",
              "        element.appendChild(docLink);\n",
              "      }\n",
              "    </script>\n",
              "  </div>\n",
              "\n",
              "\n",
              "<div id=\"df-15701dea-0c6e-4e16-88c3-1aa92dea373b\">\n",
              "  <button class=\"colab-df-quickchart\" onclick=\"quickchart('df-15701dea-0c6e-4e16-88c3-1aa92dea373b')\"\n",
              "            title=\"Suggest charts\"\n",
              "            style=\"display:none;\">\n",
              "\n",
              "<svg xmlns=\"http://www.w3.org/2000/svg\" height=\"24px\"viewBox=\"0 0 24 24\"\n",
              "     width=\"24px\">\n",
              "    <g>\n",
              "        <path d=\"M19 3H5c-1.1 0-2 .9-2 2v14c0 1.1.9 2 2 2h14c1.1 0 2-.9 2-2V5c0-1.1-.9-2-2-2zM9 17H7v-7h2v7zm4 0h-2V7h2v10zm4 0h-2v-4h2v4z\"/>\n",
              "    </g>\n",
              "</svg>\n",
              "  </button>\n",
              "\n",
              "<style>\n",
              "  .colab-df-quickchart {\n",
              "      --bg-color: #E8F0FE;\n",
              "      --fill-color: #1967D2;\n",
              "      --hover-bg-color: #E2EBFA;\n",
              "      --hover-fill-color: #174EA6;\n",
              "      --disabled-fill-color: #AAA;\n",
              "      --disabled-bg-color: #DDD;\n",
              "  }\n",
              "\n",
              "  [theme=dark] .colab-df-quickchart {\n",
              "      --bg-color: #3B4455;\n",
              "      --fill-color: #D2E3FC;\n",
              "      --hover-bg-color: #434B5C;\n",
              "      --hover-fill-color: #FFFFFF;\n",
              "      --disabled-bg-color: #3B4455;\n",
              "      --disabled-fill-color: #666;\n",
              "  }\n",
              "\n",
              "  .colab-df-quickchart {\n",
              "    background-color: var(--bg-color);\n",
              "    border: none;\n",
              "    border-radius: 50%;\n",
              "    cursor: pointer;\n",
              "    display: none;\n",
              "    fill: var(--fill-color);\n",
              "    height: 32px;\n",
              "    padding: 0;\n",
              "    width: 32px;\n",
              "  }\n",
              "\n",
              "  .colab-df-quickchart:hover {\n",
              "    background-color: var(--hover-bg-color);\n",
              "    box-shadow: 0 1px 2px rgba(60, 64, 67, 0.3), 0 1px 3px 1px rgba(60, 64, 67, 0.15);\n",
              "    fill: var(--button-hover-fill-color);\n",
              "  }\n",
              "\n",
              "  .colab-df-quickchart-complete:disabled,\n",
              "  .colab-df-quickchart-complete:disabled:hover {\n",
              "    background-color: var(--disabled-bg-color);\n",
              "    fill: var(--disabled-fill-color);\n",
              "    box-shadow: none;\n",
              "  }\n",
              "\n",
              "  .colab-df-spinner {\n",
              "    border: 2px solid var(--fill-color);\n",
              "    border-color: transparent;\n",
              "    border-bottom-color: var(--fill-color);\n",
              "    animation:\n",
              "      spin 1s steps(1) infinite;\n",
              "  }\n",
              "\n",
              "  @keyframes spin {\n",
              "    0% {\n",
              "      border-color: transparent;\n",
              "      border-bottom-color: var(--fill-color);\n",
              "      border-left-color: var(--fill-color);\n",
              "    }\n",
              "    20% {\n",
              "      border-color: transparent;\n",
              "      border-left-color: var(--fill-color);\n",
              "      border-top-color: var(--fill-color);\n",
              "    }\n",
              "    30% {\n",
              "      border-color: transparent;\n",
              "      border-left-color: var(--fill-color);\n",
              "      border-top-color: var(--fill-color);\n",
              "      border-right-color: var(--fill-color);\n",
              "    }\n",
              "    40% {\n",
              "      border-color: transparent;\n",
              "      border-right-color: var(--fill-color);\n",
              "      border-top-color: var(--fill-color);\n",
              "    }\n",
              "    60% {\n",
              "      border-color: transparent;\n",
              "      border-right-color: var(--fill-color);\n",
              "    }\n",
              "    80% {\n",
              "      border-color: transparent;\n",
              "      border-right-color: var(--fill-color);\n",
              "      border-bottom-color: var(--fill-color);\n",
              "    }\n",
              "    90% {\n",
              "      border-color: transparent;\n",
              "      border-bottom-color: var(--fill-color);\n",
              "    }\n",
              "  }\n",
              "</style>\n",
              "\n",
              "  <script>\n",
              "    async function quickchart(key) {\n",
              "      const quickchartButtonEl =\n",
              "        document.querySelector('#' + key + ' button');\n",
              "      quickchartButtonEl.disabled = true;  // To prevent multiple clicks.\n",
              "      quickchartButtonEl.classList.add('colab-df-spinner');\n",
              "      try {\n",
              "        const charts = await google.colab.kernel.invokeFunction(\n",
              "            'suggestCharts', [key], {});\n",
              "      } catch (error) {\n",
              "        console.error('Error during call to suggestCharts:', error);\n",
              "      }\n",
              "      quickchartButtonEl.classList.remove('colab-df-spinner');\n",
              "      quickchartButtonEl.classList.add('colab-df-quickchart-complete');\n",
              "    }\n",
              "    (() => {\n",
              "      let quickchartButtonEl =\n",
              "        document.querySelector('#df-15701dea-0c6e-4e16-88c3-1aa92dea373b button');\n",
              "      quickchartButtonEl.style.display =\n",
              "        google.colab.kernel.accessAllowed ? 'block' : 'none';\n",
              "    })();\n",
              "  </script>\n",
              "</div>\n",
              "\n",
              "  <div id=\"id_152bb097-c8f3-4349-94fd-a1b398b90d4a\">\n",
              "    <style>\n",
              "      .colab-df-generate {\n",
              "        background-color: #E8F0FE;\n",
              "        border: none;\n",
              "        border-radius: 50%;\n",
              "        cursor: pointer;\n",
              "        display: none;\n",
              "        fill: #1967D2;\n",
              "        height: 32px;\n",
              "        padding: 0 0 0 0;\n",
              "        width: 32px;\n",
              "      }\n",
              "\n",
              "      .colab-df-generate:hover {\n",
              "        background-color: #E2EBFA;\n",
              "        box-shadow: 0px 1px 2px rgba(60, 64, 67, 0.3), 0px 1px 3px 1px rgba(60, 64, 67, 0.15);\n",
              "        fill: #174EA6;\n",
              "      }\n",
              "\n",
              "      [theme=dark] .colab-df-generate {\n",
              "        background-color: #3B4455;\n",
              "        fill: #D2E3FC;\n",
              "      }\n",
              "\n",
              "      [theme=dark] .colab-df-generate:hover {\n",
              "        background-color: #434B5C;\n",
              "        box-shadow: 0px 1px 3px 1px rgba(0, 0, 0, 0.15);\n",
              "        filter: drop-shadow(0px 1px 2px rgba(0, 0, 0, 0.3));\n",
              "        fill: #FFFFFF;\n",
              "      }\n",
              "    </style>\n",
              "    <button class=\"colab-df-generate\" onclick=\"generateWithVariable('S')\"\n",
              "            title=\"Generate code using this dataframe.\"\n",
              "            style=\"display:none;\">\n",
              "\n",
              "  <svg xmlns=\"http://www.w3.org/2000/svg\" height=\"24px\"viewBox=\"0 0 24 24\"\n",
              "       width=\"24px\">\n",
              "    <path d=\"M7,19H8.4L18.45,9,17,7.55,7,17.6ZM5,21V16.75L18.45,3.32a2,2,0,0,1,2.83,0l1.4,1.43a1.91,1.91,0,0,1,.58,1.4,1.91,1.91,0,0,1-.58,1.4L9.25,21ZM18.45,9,17,7.55Zm-12,3A5.31,5.31,0,0,0,4.9,8.1,5.31,5.31,0,0,0,1,6.5,5.31,5.31,0,0,0,4.9,4.9,5.31,5.31,0,0,0,6.5,1,5.31,5.31,0,0,0,8.1,4.9,5.31,5.31,0,0,0,12,6.5,5.46,5.46,0,0,0,6.5,12Z\"/>\n",
              "  </svg>\n",
              "    </button>\n",
              "    <script>\n",
              "      (() => {\n",
              "      const buttonEl =\n",
              "        document.querySelector('#id_152bb097-c8f3-4349-94fd-a1b398b90d4a button.colab-df-generate');\n",
              "      buttonEl.style.display =\n",
              "        google.colab.kernel.accessAllowed ? 'block' : 'none';\n",
              "\n",
              "      buttonEl.onclick = () => {\n",
              "        google.colab.notebook.generateWithVariable('S');\n",
              "      }\n",
              "      })();\n",
              "    </script>\n",
              "  </div>\n",
              "\n",
              "    </div>\n",
              "  </div>\n"
            ]
          },
          "metadata": {},
          "execution_count": 27
        }
      ]
    },
    {
      "cell_type": "code",
      "source": [
        "# Optimizing for maximal Sharpe ratio\n",
        "# Providing expected returns and covariance matrix as input\n",
        "ef = EfficientFrontier(mu, S)\n",
        "# Optimizing weights for Sharpe ratio maximization\n",
        "weights = ef.max_sharpe()\n",
        "weights"
      ],
      "metadata": {
        "id": "zD_2W7my44uP",
        "colab": {
          "base_uri": "https://localhost:8080/"
        },
        "outputId": "92778a27-f5e0-459a-c859-b8e34506ad9c"
      },
      "execution_count": 28,
      "outputs": [
        {
          "output_type": "execute_result",
          "data": {
            "text/plain": [
              "OrderedDict([('AAL', 0.0),\n",
              "             ('NTDOY', 0.0),\n",
              "             ('NVDA', 0.6954568179470971),\n",
              "             ('SONY', 0.0),\n",
              "             ('TSM', 0.304543182052903)])"
            ]
          },
          "metadata": {},
          "execution_count": 28
        }
      ]
    },
    {
      "cell_type": "code",
      "source": [
        "# clean_weights rounds the weights and clips near-zeros\n",
        "clean_weights =  ef.clean_weights()\n",
        "# Printing optimized weights and expected performance for portfolio\n",
        "clean_weights"
      ],
      "metadata": {
        "execution": {
          "iopub.status.busy": "2023-03-21T19:43:21.466631Z",
          "iopub.execute_input": "2023-03-21T19:43:21.466972Z",
          "iopub.status.idle": "2023-03-21T19:43:21.496803Z",
          "shell.execute_reply.started": "2023-03-21T19:43:21.466937Z",
          "shell.execute_reply": "2023-03-21T19:43:21.495464Z"
        },
        "trusted": true,
        "id": "_5aMrNiRljyG",
        "colab": {
          "base_uri": "https://localhost:8080/"
        },
        "outputId": "001035b0-a657-435d-9aea-f7d02db92e20"
      },
      "execution_count": 29,
      "outputs": [
        {
          "output_type": "execute_result",
          "data": {
            "text/plain": [
              "OrderedDict([('AAL', 0.0),\n",
              "             ('NTDOY', 0.0),\n",
              "             ('NVDA', 0.69546),\n",
              "             ('SONY', 0.0),\n",
              "             ('TSM', 0.30454)])"
            ]
          },
          "metadata": {},
          "execution_count": 29
        }
      ]
    },
    {
      "cell_type": "code",
      "source": [
        "clean_weights.values()"
      ],
      "metadata": {
        "colab": {
          "base_uri": "https://localhost:8080/"
        },
        "id": "euIyYQfqNqpa",
        "outputId": "f4dd579a-b8ac-43cd-ce2a-304aab36d8f1"
      },
      "execution_count": 38,
      "outputs": [
        {
          "output_type": "execute_result",
          "data": {
            "text/plain": [
              "odict_values([0.0, 0.0, 0.69546, 0.0, 0.30454])"
            ]
          },
          "metadata": {},
          "execution_count": 38
        }
      ]
    },
    {
      "cell_type": "code",
      "source": [
        "# Creating new portfolio with optimized weights\n",
        "new_weights = clean_weights.values()\n",
        "optimized_portfolio = (list(new_weights) * stocks_df)\n",
        "optimized_portfolio = optimized_portfolio.sum(axis=1)\n",
        "optimized_portfolio # Visualizing daily returns"
      ],
      "metadata": {
        "execution": {
          "iopub.status.busy": "2023-03-21T19:43:21.498354Z",
          "iopub.execute_input": "2023-03-21T19:43:21.498799Z",
          "iopub.status.idle": "2023-03-21T19:43:21.510532Z",
          "shell.execute_reply.started": "2023-03-21T19:43:21.498760Z",
          "shell.execute_reply": "2023-03-21T19:43:21.509169Z"
        },
        "trusted": true,
        "id": "22ACigRhljyG",
        "colab": {
          "base_uri": "https://localhost:8080/"
        },
        "outputId": "5dd004ad-6b7c-4e21-ff7e-43d75471cfa4"
      },
      "execution_count": 50,
      "outputs": [
        {
          "output_type": "execute_result",
          "data": {
            "text/plain": [
              "Date\n",
              "2010-01-04      5.220319\n",
              "2010-01-05      5.253577\n",
              "2010-01-06      5.264870\n",
              "2010-01-07      5.131325\n",
              "2010-01-08      5.135744\n",
              "                 ...    \n",
              "2024-01-29    470.044196\n",
              "2024-01-30    471.912965\n",
              "2024-01-31    462.296526\n",
              "2024-02-01    472.859378\n",
              "2024-02-02    495.366824\n",
              "Length: 3545, dtype: float64"
            ]
          },
          "metadata": {},
          "execution_count": 50
        }
      ]
    },
    {
      "cell_type": "code",
      "source": [
        "# Displaying new reports comparing the optimized portfolio to the first portfolio constructed\n",
        "generate_report(\"Optimized Portfolio\", optimized_portfolio)"
      ],
      "metadata": {
        "execution": {
          "iopub.status.busy": "2023-03-21T19:43:21.512047Z",
          "iopub.execute_input": "2023-03-21T19:43:21.512510Z",
          "iopub.status.idle": "2023-03-21T19:43:32.932672Z",
          "shell.execute_reply.started": "2023-03-21T19:43:21.512470Z",
          "shell.execute_reply": "2023-03-21T19:43:32.931661Z"
        },
        "trusted": true,
        "id": "ZnaZ6iWIljyG",
        "colab": {
          "base_uri": "https://localhost:8080/"
        },
        "outputId": "73e60af3-bb74-4141-ff54-a9b5d9f30923"
      },
      "execution_count": 51,
      "outputs": [
        {
          "output_type": "stream",
          "name": "stdout",
          "text": [
            "Report for Optimized Portfolio\n",
            "Optimized Portfolio STD: 89.67\n",
            "Optimized Portfolio Kurtosis: 7.4826\n",
            "Optimized Portfolio's Skewness: 0.3524\n",
            "Optimized Portfolio's Sharpe Ratio: 1.06\n"
          ]
        }
      ]
    }
  ]
}